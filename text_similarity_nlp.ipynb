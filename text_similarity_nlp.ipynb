{
 "cells": [
  {
   "cell_type": "markdown",
   "id": "2bd588af-b3e1-4f56-8eae-64de086d8a66",
   "metadata": {},
   "source": [
    "# 1. Reading data from the excel file"
   ]
  },
  {
   "cell_type": "code",
   "execution_count": 1,
   "id": "b8f1ca69-8501-4c3c-9de2-19eb374e1f6a",
   "metadata": {},
   "outputs": [],
   "source": [
    "import pandas as pd"
   ]
  },
  {
   "cell_type": "code",
   "execution_count": 2,
   "id": "a31bc85b-c54e-434b-96c9-e17890efaa1b",
   "metadata": {},
   "outputs": [],
   "source": [
    "data1 = pd.read_excel(r'C:\\Users\\Atiye\\Downloads\\data1.xlsx')\n",
    "data2 = pd.read_excel(r'C:\\Users\\Atiye\\Downloads\\data2.xlsx')"
   ]
  },
  {
   "cell_type": "code",
   "execution_count": 3,
   "id": "5aca5b06-60de-44ae-aaac-351b9bf6d4b6",
   "metadata": {},
   "outputs": [
    {
     "data": {
      "text/html": [
       "<div>\n",
       "<style scoped>\n",
       "    .dataframe tbody tr th:only-of-type {\n",
       "        vertical-align: middle;\n",
       "    }\n",
       "\n",
       "    .dataframe tbody tr th {\n",
       "        vertical-align: top;\n",
       "    }\n",
       "\n",
       "    .dataframe thead th {\n",
       "        text-align: right;\n",
       "    }\n",
       "</style>\n",
       "<table border=\"1\" class=\"dataframe\">\n",
       "  <thead>\n",
       "    <tr style=\"text-align: right;\">\n",
       "      <th></th>\n",
       "      <th>گلگیر اصل</th>\n",
       "    </tr>\n",
       "  </thead>\n",
       "  <tbody>\n",
       "    <tr>\n",
       "      <th>0</th>\n",
       "      <td>روغن موتور لیفان</td>\n",
       "    </tr>\n",
       "    <tr>\n",
       "      <th>1</th>\n",
       "      <td>آینه بغل لیفان 520</td>\n",
       "    </tr>\n",
       "    <tr>\n",
       "      <th>2</th>\n",
       "      <td>تایر  ماشین</td>\n",
       "    </tr>\n",
       "    <tr>\n",
       "      <th>3</th>\n",
       "      <td>گلگیر ماشین Lifan</td>\n",
       "    </tr>\n",
       "    <tr>\n",
       "      <th>4</th>\n",
       "      <td>سپر</td>\n",
       "    </tr>\n",
       "  </tbody>\n",
       "</table>\n",
       "</div>"
      ],
      "text/plain": [
       "            گلگیر اصل\n",
       "0    روغن موتور لیفان\n",
       "1  آینه بغل لیفان 520\n",
       "2         تایر  ماشین\n",
       "3   گلگیر ماشین Lifan\n",
       "4                 سپر"
      ]
     },
     "execution_count": 3,
     "metadata": {},
     "output_type": "execute_result"
    }
   ],
   "source": [
    "data1.head()"
   ]
  },
  {
   "cell_type": "code",
   "execution_count": 4,
   "id": "6692b20c-d375-4de1-8ee5-581f2bccbdb1",
   "metadata": {},
   "outputs": [
    {
     "data": {
      "text/html": [
       "<div>\n",
       "<style scoped>\n",
       "    .dataframe tbody tr th:only-of-type {\n",
       "        vertical-align: middle;\n",
       "    }\n",
       "\n",
       "    .dataframe tbody tr th {\n",
       "        vertical-align: top;\n",
       "    }\n",
       "\n",
       "    .dataframe thead th {\n",
       "        text-align: right;\n",
       "    }\n",
       "</style>\n",
       "<table border=\"1\" class=\"dataframe\">\n",
       "  <thead>\n",
       "    <tr style=\"text-align: right;\">\n",
       "      <th></th>\n",
       "      <th>گلگیر لیفان</th>\n",
       "    </tr>\n",
       "  </thead>\n",
       "  <tbody>\n",
       "    <tr>\n",
       "      <th>0</th>\n",
       "      <td>روغن موتور lifan</td>\n",
       "    </tr>\n",
       "    <tr>\n",
       "      <th>1</th>\n",
       "      <td>آفتامات دینام لیفان ۵۲۰</td>\n",
       "    </tr>\n",
       "    <tr>\n",
       "      <th>2</th>\n",
       "      <td>گلگیر orginal</td>\n",
       "    </tr>\n",
       "    <tr>\n",
       "      <th>3</th>\n",
       "      <td>تایر جلو</td>\n",
       "    </tr>\n",
       "    <tr>\n",
       "      <th>4</th>\n",
       "      <td>شاسی</td>\n",
       "    </tr>\n",
       "  </tbody>\n",
       "</table>\n",
       "</div>"
      ],
      "text/plain": [
       "               گلگیر لیفان\n",
       "0         روغن موتور lifan\n",
       "1  آفتامات دینام لیفان ۵۲۰\n",
       "2            گلگیر orginal\n",
       "3                 تایر جلو\n",
       "4                     شاسی"
      ]
     },
     "execution_count": 4,
     "metadata": {},
     "output_type": "execute_result"
    }
   ],
   "source": [
    "data2.head()"
   ]
  },
  {
   "cell_type": "code",
   "execution_count": 5,
   "id": "0cda6f7b-d571-471b-845a-e8ae23e97d96",
   "metadata": {},
   "outputs": [
    {
     "name": "stdout",
     "output_type": "stream",
     "text": [
      "['روغن موتور لیفان', 'آینه بغل لیفان 520', 'تایر  ماشین', 'گلگیر ماشین Lifan', 'سپر', 'آفتامات دینام جیلی', 'گلگیر اصل']\n"
     ]
    }
   ],
   "source": [
    "data1_values_list = data1['گلگیر اصل'].tolist()\n",
    "data1_values_list.append('گلگیر اصل')\n",
    "\n",
    "# Print the updated list\n",
    "print(data1_values_list)"
   ]
  },
  {
   "cell_type": "code",
   "execution_count": 6,
   "id": "645a3b43-d1d3-4298-b76a-0525fbf79843",
   "metadata": {
    "scrolled": true
   },
   "outputs": [
    {
     "name": "stdout",
     "output_type": "stream",
     "text": [
      "['روغن موتور lifan', 'آفتامات دینام لیفان ۵۲۰', 'گلگیر orginal', 'تایر جلو', 'شاسی', 'آینه بغل راست لیفان ۵۲۰', 'گلگیر لیفان']\n"
     ]
    }
   ],
   "source": [
    "data2_values_list = data2['گلگیر لیفان'].tolist()\n",
    "data2_values_list.append('گلگیر لیفان')\n",
    "\n",
    "# Print the updated list\n",
    "print(data2_values_list)"
   ]
  },
  {
   "cell_type": "markdown",
   "id": "81334ab0-c48e-4875-9259-d5505bad6a0e",
   "metadata": {},
   "source": [
    "# 2. Checking the similarity between the texts"
   ]
  },
  {
   "cell_type": "code",
   "execution_count": 7,
   "id": "c8cf66ac-aab8-4d31-b194-334cde3e872c",
   "metadata": {},
   "outputs": [
    {
     "name": "stdout",
     "output_type": "stream",
     "text": [
      "WARNING:tensorflow:From D:\\Eyvazlou\\anaconda3\\envs\\myML\\Lib\\site-packages\\tf_keras\\src\\losses.py:2976: The name tf.losses.sparse_softmax_cross_entropy is deprecated. Please use tf.compat.v1.losses.sparse_softmax_cross_entropy instead.\n",
      "\n"
     ]
    }
   ],
   "source": [
    "import tensorflow_hub as hub"
   ]
  },
  {
   "cell_type": "code",
   "execution_count": 8,
   "id": "d3c39c37-b6ca-46ed-8133-1a778fc243ae",
   "metadata": {},
   "outputs": [],
   "source": [
    "import numpy as np"
   ]
  },
  {
   "cell_type": "code",
   "execution_count": 24,
   "id": "1ac99f27-9fb0-42c7-b060-0e1635273531",
   "metadata": {},
   "outputs": [
    {
     "name": "stdout",
     "output_type": "stream",
     "text": [
      "Match: روغن موتور لیفان and آینه بغل راست لیفان ۵۲۰ with similarity 0.87\n",
      "Match: تایر  ماشین and تایر جلو with similarity 0.86\n",
      "Match: گلگیر ماشین Lifan and گلگیر orginal with similarity 0.84\n",
      "Match: آفتامات دینام جیلی and آفتامات دینام لیفان ۵۲۰ with similarity 0.89\n",
      "Match: آفتامات دینام جیلی and آینه بغل راست لیفان ۵۲۰ with similarity 0.83\n",
      "Match: گلگیر اصل and گلگیر orginal with similarity 0.88\n",
      "Match: گلگیر اصل and گلگیر لیفان with similarity 0.81\n"
     ]
    }
   ],
   "source": [
    "# Threshold for similarity to consider as \"match\"\n",
    "similarity_threshold = 0.8  \n",
    "\n",
    "# Iterate through items in data1 and data2\n",
    "results = []\n",
    "for i, item1 in enumerate(data1_values_list):\n",
    "    for j, item2 in enumerate(data2_values_list):\n",
    "        # Get embeddings and calculate similarity\n",
    "        embeddings = model.encode([item1, item2])\n",
    "        similarity = util.cos_sim(embeddings[0], embeddings[1]).item()  # Convert tensor to scalar\n",
    "        if similarity > similarity_threshold:\n",
    "            results.append((item1, item2, similarity))\n",
    "\n",
    "# Output the matching results\n",
    "for match in results:\n",
    "    print(f\"Match: {match[0]} and {match[1]} with similarity {match[2]:.2f}\")"
   ]
  },
  {
   "cell_type": "markdown",
   "id": "7b14d9db-5fc2-4a4c-bb9a-7a53bbcaf6a3",
   "metadata": {},
   "source": [
    "# 3. Other solutions if the text was in English ..."
   ]
  },
  {
   "cell_type": "code",
   "execution_count": 9,
   "id": "46f57534-3fc5-4d53-9a89-7ea5670aaf55",
   "metadata": {
    "scrolled": true
   },
   "outputs": [
    {
     "name": "stdout",
     "output_type": "stream",
     "text": [
      "WARNING:tensorflow:From D:\\Eyvazlou\\anaconda3\\envs\\myML\\Lib\\site-packages\\tensorflow_hub\\resolver.py:498: The name tf.gfile.Exists is deprecated. Please use tf.io.gfile.exists instead.\n",
      "\n",
      "WARNING:tensorflow:From D:\\Eyvazlou\\anaconda3\\envs\\myML\\Lib\\site-packages\\tensorflow_hub\\module_v2.py:126: The name tf.saved_model.load_v2 is deprecated. Please use tf.compat.v2.saved_model.load instead.\n",
      "\n"
     ]
    }
   ],
   "source": [
    "# Path to the directory containing saved_model.pb\n",
    "model_path = r'C:\\Users\\Atiye\\Downloads\\use_model' # https://tfhub.dev/google/universal-sentence-encoder/4 or USE model\n",
    "\n",
    "# Load the model\n",
    "model = hub.load(model_path)"
   ]
  },
  {
   "cell_type": "code",
   "execution_count": 10,
   "id": "341b93f6-2d24-4571-9f44-447d580dca75",
   "metadata": {},
   "outputs": [
    {
     "name": "stdout",
     "output_type": "stream",
     "text": [
      "Similarity between 'I like apples.' and 'I love oranges.': 0.5936190485954285\n",
      "Similarity between 'I enjoy sports.' and 'I like sports.': 0.8861240744590759\n",
      "Similarity between 'I love programming.' and 'I adore coding.': 0.7679569125175476\n"
     ]
    }
   ],
   "source": [
    "# Example data lists\n",
    "data1 = [\"I like apples.\", \"I enjoy sports.\", \"I love programming.\"]\n",
    "data2 = [\"I love oranges.\", \"I like sports.\", \"I adore coding.\"]\n",
    "\n",
    "# Generate embeddings for both lists\n",
    "embeddings1 = model(data1)  # Embeddings for data1\n",
    "embeddings2 = model(data2)  # Embeddings for data2\n",
    "\n",
    "# Calculate cosine similarity between corresponding items from both lists\n",
    "for i in range(len(data1)):\n",
    "    similarity = np.inner(embeddings1[i], embeddings2[i])  # Cosine similarity between corresponding items\n",
    "    print(f\"Similarity between '{data1[i]}' and '{data2[i]}': {similarity}\")"
   ]
  },
  {
   "cell_type": "code",
   "execution_count": 11,
   "id": "7761290b-9eb9-497e-b148-b227fcb7dc49",
   "metadata": {},
   "outputs": [
    {
     "name": "stdout",
     "output_type": "stream",
     "text": [
      "Similarity: 0.9575695600338279\n"
     ]
    }
   ],
   "source": [
    "import spacy\n",
    "\n",
    "nlp = spacy.load(\"en_core_web_md\")\n",
    "doc1 = nlp(\"I like apples.\")\n",
    "doc2 = nlp(\"I love oranges.\")\n",
    "similarity = doc1.similarity(doc2)\n",
    "print(f\"Similarity: {similarity}\")"
   ]
  },
  {
   "cell_type": "code",
   "execution_count": 12,
   "id": "bcd828f2-5f22-4c35-837d-75e113113066",
   "metadata": {},
   "outputs": [
    {
     "name": "stdout",
     "output_type": "stream",
     "text": [
      "Similarity: tensor([[0.5589]])\n"
     ]
    }
   ],
   "source": [
    "from sentence_transformers import SentenceTransformer, util\n",
    "\n",
    "model = SentenceTransformer('all-MiniLM-L6-v2')\n",
    "embeddings = model.encode([\"I like apples.\", \"I love oranges.\"])\n",
    "similarity = util.cos_sim(embeddings[0], embeddings[1])\n",
    "print(f\"Similarity: {similarity}\")"
   ]
  }
 ],
 "metadata": {
  "kernelspec": {
   "display_name": "Python 3 (ipykernel)",
   "language": "python",
   "name": "python3"
  },
  "language_info": {
   "codemirror_mode": {
    "name": "ipython",
    "version": 3
   },
   "file_extension": ".py",
   "mimetype": "text/x-python",
   "name": "python",
   "nbconvert_exporter": "python",
   "pygments_lexer": "ipython3",
   "version": "3.12.3"
  }
 },
 "nbformat": 4,
 "nbformat_minor": 5
}
